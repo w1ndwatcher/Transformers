{
  "nbformat": 4,
  "nbformat_minor": 0,
  "metadata": {
    "colab": {
      "provenance": [],
      "gpuType": "T4"
    },
    "kernelspec": {
      "name": "python3",
      "display_name": "Python 3"
    },
    "language_info": {
      "name": "python"
    },
    "accelerator": "GPU"
  },
  "cells": [
    {
      "cell_type": "code",
      "execution_count": 1,
      "metadata": {
        "colab": {
          "base_uri": "https://localhost:8080/"
        },
        "id": "T2vtRRQj1t3I",
        "outputId": "8774b0d6-e0be-41a1-ded5-548d49b17f95"
      },
      "outputs": [
        {
          "output_type": "stream",
          "name": "stdout",
          "text": [
            "Collecting langchain-openai\n",
            "  Downloading langchain_openai-0.3.24-py3-none-any.whl.metadata (2.3 kB)\n",
            "Collecting langchain-community\n",
            "  Downloading langchain_community-0.3.25-py3-none-any.whl.metadata (2.9 kB)\n",
            "Requirement already satisfied: huggingface_hub in /usr/local/lib/python3.11/dist-packages (0.33.0)\n",
            "Requirement already satisfied: langchain-core<1.0.0,>=0.3.65 in /usr/local/lib/python3.11/dist-packages (from langchain-openai) (0.3.65)\n",
            "Requirement already satisfied: openai<2.0.0,>=1.86.0 in /usr/local/lib/python3.11/dist-packages (from langchain-openai) (1.86.0)\n",
            "Requirement already satisfied: tiktoken<1,>=0.7 in /usr/local/lib/python3.11/dist-packages (from langchain-openai) (0.9.0)\n",
            "Requirement already satisfied: langchain<1.0.0,>=0.3.25 in /usr/local/lib/python3.11/dist-packages (from langchain-community) (0.3.25)\n",
            "Requirement already satisfied: SQLAlchemy<3,>=1.4 in /usr/local/lib/python3.11/dist-packages (from langchain-community) (2.0.41)\n",
            "Requirement already satisfied: requests<3,>=2 in /usr/local/lib/python3.11/dist-packages (from langchain-community) (2.32.3)\n",
            "Requirement already satisfied: PyYAML>=5.3 in /usr/local/lib/python3.11/dist-packages (from langchain-community) (6.0.2)\n",
            "Requirement already satisfied: aiohttp<4.0.0,>=3.8.3 in /usr/local/lib/python3.11/dist-packages (from langchain-community) (3.11.15)\n",
            "Requirement already satisfied: tenacity!=8.4.0,<10,>=8.1.0 in /usr/local/lib/python3.11/dist-packages (from langchain-community) (9.1.2)\n",
            "Collecting dataclasses-json<0.7,>=0.5.7 (from langchain-community)\n",
            "  Downloading dataclasses_json-0.6.7-py3-none-any.whl.metadata (25 kB)\n",
            "Collecting pydantic-settings<3.0.0,>=2.4.0 (from langchain-community)\n",
            "  Downloading pydantic_settings-2.9.1-py3-none-any.whl.metadata (3.8 kB)\n",
            "Requirement already satisfied: langsmith<0.4,>=0.1.125 in /usr/local/lib/python3.11/dist-packages (from langchain-community) (0.3.45)\n",
            "Collecting httpx-sse<1.0.0,>=0.4.0 (from langchain-community)\n",
            "  Downloading httpx_sse-0.4.0-py3-none-any.whl.metadata (9.0 kB)\n",
            "Requirement already satisfied: numpy>=1.26.2 in /usr/local/lib/python3.11/dist-packages (from langchain-community) (2.0.2)\n",
            "Requirement already satisfied: filelock in /usr/local/lib/python3.11/dist-packages (from huggingface_hub) (3.18.0)\n",
            "Requirement already satisfied: fsspec>=2023.5.0 in /usr/local/lib/python3.11/dist-packages (from huggingface_hub) (2025.3.2)\n",
            "Requirement already satisfied: packaging>=20.9 in /usr/local/lib/python3.11/dist-packages (from huggingface_hub) (24.2)\n",
            "Requirement already satisfied: tqdm>=4.42.1 in /usr/local/lib/python3.11/dist-packages (from huggingface_hub) (4.67.1)\n",
            "Requirement already satisfied: typing-extensions>=3.7.4.3 in /usr/local/lib/python3.11/dist-packages (from huggingface_hub) (4.14.0)\n",
            "Requirement already satisfied: hf-xet<2.0.0,>=1.1.2 in /usr/local/lib/python3.11/dist-packages (from huggingface_hub) (1.1.3)\n",
            "Requirement already satisfied: aiohappyeyeballs>=2.3.0 in /usr/local/lib/python3.11/dist-packages (from aiohttp<4.0.0,>=3.8.3->langchain-community) (2.6.1)\n",
            "Requirement already satisfied: aiosignal>=1.1.2 in /usr/local/lib/python3.11/dist-packages (from aiohttp<4.0.0,>=3.8.3->langchain-community) (1.3.2)\n",
            "Requirement already satisfied: attrs>=17.3.0 in /usr/local/lib/python3.11/dist-packages (from aiohttp<4.0.0,>=3.8.3->langchain-community) (25.3.0)\n",
            "Requirement already satisfied: frozenlist>=1.1.1 in /usr/local/lib/python3.11/dist-packages (from aiohttp<4.0.0,>=3.8.3->langchain-community) (1.7.0)\n",
            "Requirement already satisfied: multidict<7.0,>=4.5 in /usr/local/lib/python3.11/dist-packages (from aiohttp<4.0.0,>=3.8.3->langchain-community) (6.4.4)\n",
            "Requirement already satisfied: propcache>=0.2.0 in /usr/local/lib/python3.11/dist-packages (from aiohttp<4.0.0,>=3.8.3->langchain-community) (0.3.2)\n",
            "Requirement already satisfied: yarl<2.0,>=1.17.0 in /usr/local/lib/python3.11/dist-packages (from aiohttp<4.0.0,>=3.8.3->langchain-community) (1.20.1)\n",
            "Collecting marshmallow<4.0.0,>=3.18.0 (from dataclasses-json<0.7,>=0.5.7->langchain-community)\n",
            "  Downloading marshmallow-3.26.1-py3-none-any.whl.metadata (7.3 kB)\n",
            "Collecting typing-inspect<1,>=0.4.0 (from dataclasses-json<0.7,>=0.5.7->langchain-community)\n",
            "  Downloading typing_inspect-0.9.0-py3-none-any.whl.metadata (1.5 kB)\n",
            "Requirement already satisfied: langchain-text-splitters<1.0.0,>=0.3.8 in /usr/local/lib/python3.11/dist-packages (from langchain<1.0.0,>=0.3.25->langchain-community) (0.3.8)\n",
            "Requirement already satisfied: pydantic<3.0.0,>=2.7.4 in /usr/local/lib/python3.11/dist-packages (from langchain<1.0.0,>=0.3.25->langchain-community) (2.11.7)\n",
            "Requirement already satisfied: jsonpatch<2.0,>=1.33 in /usr/local/lib/python3.11/dist-packages (from langchain-core<1.0.0,>=0.3.65->langchain-openai) (1.33)\n",
            "Requirement already satisfied: httpx<1,>=0.23.0 in /usr/local/lib/python3.11/dist-packages (from langsmith<0.4,>=0.1.125->langchain-community) (0.28.1)\n",
            "Requirement already satisfied: orjson<4.0.0,>=3.9.14 in /usr/local/lib/python3.11/dist-packages (from langsmith<0.4,>=0.1.125->langchain-community) (3.10.18)\n",
            "Requirement already satisfied: requests-toolbelt<2.0.0,>=1.0.0 in /usr/local/lib/python3.11/dist-packages (from langsmith<0.4,>=0.1.125->langchain-community) (1.0.0)\n",
            "Requirement already satisfied: zstandard<0.24.0,>=0.23.0 in /usr/local/lib/python3.11/dist-packages (from langsmith<0.4,>=0.1.125->langchain-community) (0.23.0)\n",
            "Requirement already satisfied: anyio<5,>=3.5.0 in /usr/local/lib/python3.11/dist-packages (from openai<2.0.0,>=1.86.0->langchain-openai) (4.9.0)\n",
            "Requirement already satisfied: distro<2,>=1.7.0 in /usr/local/lib/python3.11/dist-packages (from openai<2.0.0,>=1.86.0->langchain-openai) (1.9.0)\n",
            "Requirement already satisfied: jiter<1,>=0.4.0 in /usr/local/lib/python3.11/dist-packages (from openai<2.0.0,>=1.86.0->langchain-openai) (0.10.0)\n",
            "Requirement already satisfied: sniffio in /usr/local/lib/python3.11/dist-packages (from openai<2.0.0,>=1.86.0->langchain-openai) (1.3.1)\n",
            "Collecting python-dotenv>=0.21.0 (from pydantic-settings<3.0.0,>=2.4.0->langchain-community)\n",
            "  Downloading python_dotenv-1.1.0-py3-none-any.whl.metadata (24 kB)\n",
            "Requirement already satisfied: typing-inspection>=0.4.0 in /usr/local/lib/python3.11/dist-packages (from pydantic-settings<3.0.0,>=2.4.0->langchain-community) (0.4.1)\n",
            "Requirement already satisfied: charset-normalizer<4,>=2 in /usr/local/lib/python3.11/dist-packages (from requests<3,>=2->langchain-community) (3.4.2)\n",
            "Requirement already satisfied: idna<4,>=2.5 in /usr/local/lib/python3.11/dist-packages (from requests<3,>=2->langchain-community) (3.10)\n",
            "Requirement already satisfied: urllib3<3,>=1.21.1 in /usr/local/lib/python3.11/dist-packages (from requests<3,>=2->langchain-community) (2.4.0)\n",
            "Requirement already satisfied: certifi>=2017.4.17 in /usr/local/lib/python3.11/dist-packages (from requests<3,>=2->langchain-community) (2025.6.15)\n",
            "Requirement already satisfied: greenlet>=1 in /usr/local/lib/python3.11/dist-packages (from SQLAlchemy<3,>=1.4->langchain-community) (3.2.3)\n",
            "Requirement already satisfied: regex>=2022.1.18 in /usr/local/lib/python3.11/dist-packages (from tiktoken<1,>=0.7->langchain-openai) (2024.11.6)\n",
            "Requirement already satisfied: httpcore==1.* in /usr/local/lib/python3.11/dist-packages (from httpx<1,>=0.23.0->langsmith<0.4,>=0.1.125->langchain-community) (1.0.9)\n",
            "Requirement already satisfied: h11>=0.16 in /usr/local/lib/python3.11/dist-packages (from httpcore==1.*->httpx<1,>=0.23.0->langsmith<0.4,>=0.1.125->langchain-community) (0.16.0)\n",
            "Requirement already satisfied: jsonpointer>=1.9 in /usr/local/lib/python3.11/dist-packages (from jsonpatch<2.0,>=1.33->langchain-core<1.0.0,>=0.3.65->langchain-openai) (3.0.0)\n",
            "Requirement already satisfied: annotated-types>=0.6.0 in /usr/local/lib/python3.11/dist-packages (from pydantic<3.0.0,>=2.7.4->langchain<1.0.0,>=0.3.25->langchain-community) (0.7.0)\n",
            "Requirement already satisfied: pydantic-core==2.33.2 in /usr/local/lib/python3.11/dist-packages (from pydantic<3.0.0,>=2.7.4->langchain<1.0.0,>=0.3.25->langchain-community) (2.33.2)\n",
            "Collecting mypy-extensions>=0.3.0 (from typing-inspect<1,>=0.4.0->dataclasses-json<0.7,>=0.5.7->langchain-community)\n",
            "  Downloading mypy_extensions-1.1.0-py3-none-any.whl.metadata (1.1 kB)\n",
            "Downloading langchain_openai-0.3.24-py3-none-any.whl (68 kB)\n",
            "\u001b[2K   \u001b[90m━━━━━━━━━━━━━━━━━━━━━━━━━━━━━━━━━━━━━━━━\u001b[0m \u001b[32m69.0/69.0 kB\u001b[0m \u001b[31m6.1 MB/s\u001b[0m eta \u001b[36m0:00:00\u001b[0m\n",
            "\u001b[?25hDownloading langchain_community-0.3.25-py3-none-any.whl (2.5 MB)\n",
            "\u001b[2K   \u001b[90m━━━━━━━━━━━━━━━━━━━━━━━━━━━━━━━━━━━━━━━━\u001b[0m \u001b[32m2.5/2.5 MB\u001b[0m \u001b[31m68.8 MB/s\u001b[0m eta \u001b[36m0:00:00\u001b[0m\n",
            "\u001b[?25hDownloading dataclasses_json-0.6.7-py3-none-any.whl (28 kB)\n",
            "Downloading httpx_sse-0.4.0-py3-none-any.whl (7.8 kB)\n",
            "Downloading pydantic_settings-2.9.1-py3-none-any.whl (44 kB)\n",
            "\u001b[2K   \u001b[90m━━━━━━━━━━━━━━━━━━━━━━━━━━━━━━━━━━━━━━━━\u001b[0m \u001b[32m44.4/44.4 kB\u001b[0m \u001b[31m4.6 MB/s\u001b[0m eta \u001b[36m0:00:00\u001b[0m\n",
            "\u001b[?25hDownloading marshmallow-3.26.1-py3-none-any.whl (50 kB)\n",
            "\u001b[2K   \u001b[90m━━━━━━━━━━━━━━━━━━━━━━━━━━━━━━━━━━━━━━━━\u001b[0m \u001b[32m50.9/50.9 kB\u001b[0m \u001b[31m5.8 MB/s\u001b[0m eta \u001b[36m0:00:00\u001b[0m\n",
            "\u001b[?25hDownloading python_dotenv-1.1.0-py3-none-any.whl (20 kB)\n",
            "Downloading typing_inspect-0.9.0-py3-none-any.whl (8.8 kB)\n",
            "Downloading mypy_extensions-1.1.0-py3-none-any.whl (5.0 kB)\n",
            "Installing collected packages: python-dotenv, mypy-extensions, marshmallow, httpx-sse, typing-inspect, pydantic-settings, dataclasses-json, langchain-openai, langchain-community\n",
            "Successfully installed dataclasses-json-0.6.7 httpx-sse-0.4.0 langchain-community-0.3.25 langchain-openai-0.3.24 marshmallow-3.26.1 mypy-extensions-1.1.0 pydantic-settings-2.9.1 python-dotenv-1.1.0 typing-inspect-0.9.0\n"
          ]
        }
      ],
      "source": [
        "# Install required packages\n",
        "# Run this cell only once if not already installed\n",
        "# The '!' is used to run shell commands in Jupyter/Colab\n",
        "\n",
        "!pip install langchain-openai langchain-community huggingface_hub PyPDF2 langchain-huggingface faiss-cpu\n",
        "\n",
        "# langchain-openai: Provides OpenAI-specific integrations for LangChain (e.g., ChatOpenAI, OpenAIEmbeddings)\n",
        "# langchain-community:  Community-contributed integrations for LangChain like FAISS, HuggingFace, etc.\n",
        "# huggingface_hub: Python client to interact with the Hugging Face Hub (download models, datasets)\n",
        "# PyPDF2: Used for reading and extracting text from PDF files\n",
        "# langchain-huggingface: Official LangChain support for HuggingFace embedding models (replaces older APIs)\n",
        "# faiss-cpu: Facebook AI Similarity Search (CPU version) — used for efficient vector similarity search"
      ]
    },
    {
      "cell_type": "code",
      "source": [
        "# Load environment variables from a `.env` file into the environment\n",
        "# Useful for storing API keys and configuration settings securely\n",
        "from dotenv import load_dotenv\n",
        "\n",
        "# PDF reading library — allows you to open and extract text from PDF files\n",
        "from PyPDF2 import PdfReader\n",
        "\n",
        "# Utility from LangChain to split long text into smaller chunks based on character count\n",
        "# Important for chunking documents before embedding them\n",
        "from langchain.text_splitter import CharacterTextSplitter\n",
        "\n",
        "# Embedding model wrapper for HuggingFace models (like sentence-transformers)\n",
        "# Used to convert text chunks into vector embeddings\n",
        "from langchain_huggingface import HuggingFaceEmbeddings\n",
        "\n",
        "# Wrapper for OpenAI’s GPT models (e.g., GPT-3.5, GPT-4) for use with LangChain\n",
        "# Enables natural language generation\n",
        "from langchain_openai import ChatOpenAI\n",
        "\n",
        "# FAISS is a vector store used to store and retrieve vector embeddings efficiently\n",
        "# langchain.vectorstores.FAISS integrates FAISS with LangChain\n",
        "from langchain.vectorstores import FAISS\n",
        "\n",
        "# Conversation memory buffer that stores past user-assistant interactions\n",
        "# Helps the model maintain context across multiple turns in a conversation\n",
        "from langchain.memory import ConversationBufferMemory\n",
        "\n",
        "# Combines a retriever (e.g., FAISS) with a language model for answering questions based on retrieved context\n",
        "# Ideal for building conversational retrieval-based QA systems\n",
        "from langchain.chains import ConversationalRetrievalChain\n",
        "\n",
        "# Used to authenticate to Hugging Face Hub (for downloading private models or using APIs)\n",
        "from huggingface_hub import login\n",
        "\n",
        "# Python’s built-in module for interacting with the operating system\n",
        "# Used to access environment variables, file paths, etc.\n",
        "import os\n"
      ],
      "metadata": {
        "id": "72w83LGf2PFO"
      },
      "execution_count": 3,
      "outputs": []
    },
    {
      "cell_type": "markdown",
      "source": [
        "###Log-In to HuggingFace Hub"
      ],
      "metadata": {
        "id": "u4ozrTbj762c"
      }
    },
    {
      "cell_type": "markdown",
      "source": [
        "Create a .env file and add your API keys in it\n",
        "\n",
        "\n",
        "```\n",
        "HUGGINGFACEHUB_API_TOKEN='your_actual_token_here'\n",
        "OPENAI_API_KEY='your_actual_token_here'\n",
        "```\n",
        "\n",
        "\n",
        "\n",
        "Go to the left sidebar → Files tab (📁 icon) → Click \"Upload\" → Choose your `.env` file"
      ],
      "metadata": {
        "id": "b87v8vMM8Bex"
      }
    },
    {
      "cell_type": "code",
      "source": [
        "# Load environment variables and login to Hugging Face\n",
        "\n",
        "load_dotenv()  # Loads .env file containing API keys\n",
        "\n",
        "# Login to Hugging Face Hub using your token from https://huggingface.co/settings/tokens\n",
        "login(os.getenv(\"HUGGINGFACEHUB_API_TOKEN\"))"
      ],
      "metadata": {
        "id": "2sLOWkM84CRM"
      },
      "execution_count": 12,
      "outputs": []
    },
    {
      "cell_type": "markdown",
      "source": [
        "###Upload your PDF (KB)"
      ],
      "metadata": {
        "id": "O63CTcUM8MGN"
      }
    },
    {
      "cell_type": "code",
      "source": [
        "from google.colab import files\n",
        "\n",
        "# Opens a file picker dialog in Colab to allow the user to upload local files\n",
        "# You can hold Ctrl (or Cmd on Mac) and select multiple PDF files at once.\n",
        "# The uploaded files will be stored in the current Colab runtime\n",
        "# Upload your PDF here\n",
        "uploaded = files.upload()"
      ],
      "metadata": {
        "colab": {
          "base_uri": "https://localhost:8080/",
          "height": 73
        },
        "id": "9fXxWxTV2sye",
        "outputId": "e9cd11ea-41fd-4df7-c302-67b04bbff033"
      },
      "execution_count": 4,
      "outputs": [
        {
          "output_type": "display_data",
          "data": {
            "text/plain": [
              "<IPython.core.display.HTML object>"
            ],
            "text/html": [
              "\n",
              "     <input type=\"file\" id=\"files-25ec4f42-eb34-40f4-970b-a9267709e28a\" name=\"files[]\" multiple disabled\n",
              "        style=\"border:none\" />\n",
              "     <output id=\"result-25ec4f42-eb34-40f4-970b-a9267709e28a\">\n",
              "      Upload widget is only available when the cell has been executed in the\n",
              "      current browser session. Please rerun this cell to enable.\n",
              "      </output>\n",
              "      <script>// Copyright 2017 Google LLC\n",
              "//\n",
              "// Licensed under the Apache License, Version 2.0 (the \"License\");\n",
              "// you may not use this file except in compliance with the License.\n",
              "// You may obtain a copy of the License at\n",
              "//\n",
              "//      http://www.apache.org/licenses/LICENSE-2.0\n",
              "//\n",
              "// Unless required by applicable law or agreed to in writing, software\n",
              "// distributed under the License is distributed on an \"AS IS\" BASIS,\n",
              "// WITHOUT WARRANTIES OR CONDITIONS OF ANY KIND, either express or implied.\n",
              "// See the License for the specific language governing permissions and\n",
              "// limitations under the License.\n",
              "\n",
              "/**\n",
              " * @fileoverview Helpers for google.colab Python module.\n",
              " */\n",
              "(function(scope) {\n",
              "function span(text, styleAttributes = {}) {\n",
              "  const element = document.createElement('span');\n",
              "  element.textContent = text;\n",
              "  for (const key of Object.keys(styleAttributes)) {\n",
              "    element.style[key] = styleAttributes[key];\n",
              "  }\n",
              "  return element;\n",
              "}\n",
              "\n",
              "// Max number of bytes which will be uploaded at a time.\n",
              "const MAX_PAYLOAD_SIZE = 100 * 1024;\n",
              "\n",
              "function _uploadFiles(inputId, outputId) {\n",
              "  const steps = uploadFilesStep(inputId, outputId);\n",
              "  const outputElement = document.getElementById(outputId);\n",
              "  // Cache steps on the outputElement to make it available for the next call\n",
              "  // to uploadFilesContinue from Python.\n",
              "  outputElement.steps = steps;\n",
              "\n",
              "  return _uploadFilesContinue(outputId);\n",
              "}\n",
              "\n",
              "// This is roughly an async generator (not supported in the browser yet),\n",
              "// where there are multiple asynchronous steps and the Python side is going\n",
              "// to poll for completion of each step.\n",
              "// This uses a Promise to block the python side on completion of each step,\n",
              "// then passes the result of the previous step as the input to the next step.\n",
              "function _uploadFilesContinue(outputId) {\n",
              "  const outputElement = document.getElementById(outputId);\n",
              "  const steps = outputElement.steps;\n",
              "\n",
              "  const next = steps.next(outputElement.lastPromiseValue);\n",
              "  return Promise.resolve(next.value.promise).then((value) => {\n",
              "    // Cache the last promise value to make it available to the next\n",
              "    // step of the generator.\n",
              "    outputElement.lastPromiseValue = value;\n",
              "    return next.value.response;\n",
              "  });\n",
              "}\n",
              "\n",
              "/**\n",
              " * Generator function which is called between each async step of the upload\n",
              " * process.\n",
              " * @param {string} inputId Element ID of the input file picker element.\n",
              " * @param {string} outputId Element ID of the output display.\n",
              " * @return {!Iterable<!Object>} Iterable of next steps.\n",
              " */\n",
              "function* uploadFilesStep(inputId, outputId) {\n",
              "  const inputElement = document.getElementById(inputId);\n",
              "  inputElement.disabled = false;\n",
              "\n",
              "  const outputElement = document.getElementById(outputId);\n",
              "  outputElement.innerHTML = '';\n",
              "\n",
              "  const pickedPromise = new Promise((resolve) => {\n",
              "    inputElement.addEventListener('change', (e) => {\n",
              "      resolve(e.target.files);\n",
              "    });\n",
              "  });\n",
              "\n",
              "  const cancel = document.createElement('button');\n",
              "  inputElement.parentElement.appendChild(cancel);\n",
              "  cancel.textContent = 'Cancel upload';\n",
              "  const cancelPromise = new Promise((resolve) => {\n",
              "    cancel.onclick = () => {\n",
              "      resolve(null);\n",
              "    };\n",
              "  });\n",
              "\n",
              "  // Wait for the user to pick the files.\n",
              "  const files = yield {\n",
              "    promise: Promise.race([pickedPromise, cancelPromise]),\n",
              "    response: {\n",
              "      action: 'starting',\n",
              "    }\n",
              "  };\n",
              "\n",
              "  cancel.remove();\n",
              "\n",
              "  // Disable the input element since further picks are not allowed.\n",
              "  inputElement.disabled = true;\n",
              "\n",
              "  if (!files) {\n",
              "    return {\n",
              "      response: {\n",
              "        action: 'complete',\n",
              "      }\n",
              "    };\n",
              "  }\n",
              "\n",
              "  for (const file of files) {\n",
              "    const li = document.createElement('li');\n",
              "    li.append(span(file.name, {fontWeight: 'bold'}));\n",
              "    li.append(span(\n",
              "        `(${file.type || 'n/a'}) - ${file.size} bytes, ` +\n",
              "        `last modified: ${\n",
              "            file.lastModifiedDate ? file.lastModifiedDate.toLocaleDateString() :\n",
              "                                    'n/a'} - `));\n",
              "    const percent = span('0% done');\n",
              "    li.appendChild(percent);\n",
              "\n",
              "    outputElement.appendChild(li);\n",
              "\n",
              "    const fileDataPromise = new Promise((resolve) => {\n",
              "      const reader = new FileReader();\n",
              "      reader.onload = (e) => {\n",
              "        resolve(e.target.result);\n",
              "      };\n",
              "      reader.readAsArrayBuffer(file);\n",
              "    });\n",
              "    // Wait for the data to be ready.\n",
              "    let fileData = yield {\n",
              "      promise: fileDataPromise,\n",
              "      response: {\n",
              "        action: 'continue',\n",
              "      }\n",
              "    };\n",
              "\n",
              "    // Use a chunked sending to avoid message size limits. See b/62115660.\n",
              "    let position = 0;\n",
              "    do {\n",
              "      const length = Math.min(fileData.byteLength - position, MAX_PAYLOAD_SIZE);\n",
              "      const chunk = new Uint8Array(fileData, position, length);\n",
              "      position += length;\n",
              "\n",
              "      const base64 = btoa(String.fromCharCode.apply(null, chunk));\n",
              "      yield {\n",
              "        response: {\n",
              "          action: 'append',\n",
              "          file: file.name,\n",
              "          data: base64,\n",
              "        },\n",
              "      };\n",
              "\n",
              "      let percentDone = fileData.byteLength === 0 ?\n",
              "          100 :\n",
              "          Math.round((position / fileData.byteLength) * 100);\n",
              "      percent.textContent = `${percentDone}% done`;\n",
              "\n",
              "    } while (position < fileData.byteLength);\n",
              "  }\n",
              "\n",
              "  // All done.\n",
              "  yield {\n",
              "    response: {\n",
              "      action: 'complete',\n",
              "    }\n",
              "  };\n",
              "}\n",
              "\n",
              "scope.google = scope.google || {};\n",
              "scope.google.colab = scope.google.colab || {};\n",
              "scope.google.colab._files = {\n",
              "  _uploadFiles,\n",
              "  _uploadFilesContinue,\n",
              "};\n",
              "})(self);\n",
              "</script> "
            ]
          },
          "metadata": {}
        },
        {
          "output_type": "stream",
          "name": "stdout",
          "text": [
            "Saving Managing_Diabetes.pdf to Managing_Diabetes.pdf\n"
          ]
        }
      ]
    },
    {
      "cell_type": "code",
      "source": [
        "# Create a list of file paths pointing to the uploaded PDF files\n",
        "# `uploaded.keys()` returns a dict_keys object with filenames as keys (e.g., {'example.pdf': ...})\n",
        "pdf_paths = [f\"/content/{filename}\" for filename in uploaded.keys()]\n",
        "# Print the list of selected PDF paths to confirm successful upload\n",
        "print(f\"Selected PDFs: {pdf_paths}\")"
      ],
      "metadata": {
        "colab": {
          "base_uri": "https://localhost:8080/"
        },
        "id": "9U3SVRM-2qNj",
        "outputId": "cf1610ee-5be0-460f-9660-8b7e18bc7d9b"
      },
      "execution_count": 5,
      "outputs": [
        {
          "output_type": "stream",
          "name": "stdout",
          "text": [
            "Selected PDFs: ['/content/Managing_Diabetes.pdf']\n"
          ]
        }
      ]
    },
    {
      "cell_type": "code",
      "source": [
        "def get_pdf_text(pdf_docs):\n",
        "    '''\n",
        "    loop over all the pdf files and concatenate\n",
        "    the content in a single string\n",
        "    '''\n",
        "    text = \"\"    # Initialize an empty string to accumulate text from all PDFs\n",
        "    for pdf in pdf_docs:\n",
        "        pdf_reader = PdfReader(pdf)  # Create a PdfReader object for the current PDF file\n",
        "        for page in pdf_reader.pages:  # Iterate through all pages in the PDF\n",
        "            page_text = page.extract_text()  # Extract text from the current page\n",
        "            if page_text:\n",
        "                text += page_text  # Append the extracted text to the result string\n",
        "    return text  # Return the combined text from all PDF pages\n",
        "\n",
        "\n",
        "# Call the function with the list of uploaded PDF paths\n",
        "raw_text = get_pdf_text(pdf_paths)  # Extract text from all uploaded PDFs\n",
        "# Print the length of the extracted text to verify it worked\n",
        "print(\"✅ Extracted text length:\", len(raw_text))"
      ],
      "metadata": {
        "colab": {
          "base_uri": "https://localhost:8080/"
        },
        "id": "E9Mfk4mh2d_0",
        "outputId": "e73b4201-68c2-435b-c317-bb26e8282295"
      },
      "execution_count": 6,
      "outputs": [
        {
          "output_type": "stream",
          "name": "stdout",
          "text": [
            "✅ Extracted text length: 4064\n"
          ]
        }
      ]
    },
    {
      "cell_type": "code",
      "source": [
        "def get_text_chunks(raw_text):\n",
        "    '''\n",
        "    takes a single string of text and returns a list\n",
        "    of text strings that can be fed to vector database\n",
        "    '''\n",
        "    # CharacterTextSplitter is a LangChain utility that splits text into chunks\n",
        "    # based on characters — useful for preparing text for embeddings and retrieval\n",
        "    text_splitter = CharacterTextSplitter(\n",
        "        separator='\\n',        # Split text primarily at newline characters (paragraph breaks)\n",
        "        chunk_size=1000,       # Each chunk will be up to 1000 characters long\n",
        "        chunk_overlap=200,     # Overlap of 200 characters between chunks to preserve context across splits\n",
        "        length_function=len    # Function to measure chunk length (here, just using the built-in len())\n",
        "    )\n",
        "    # Split the raw text into chunks using the specified rules\n",
        "    chunks = text_splitter.split_text(raw_text)\n",
        "    return chunks  # Return the list of text chunks\n",
        "\n",
        "# Call the function and print number of resulting chunks\n",
        "text_chunks = get_text_chunks(raw_text)  # Split the PDF text into manageable chunks\n",
        "print(\"✅ Number of text chunks:\", len(text_chunks))  # Verify how many chunks were created"
      ],
      "metadata": {
        "colab": {
          "base_uri": "https://localhost:8080/"
        },
        "id": "-uudstP525mB",
        "outputId": "3664c5e4-5e03-41a0-c58e-0b5b62f2b7e4"
      },
      "execution_count": 7,
      "outputs": [
        {
          "output_type": "stream",
          "name": "stdout",
          "text": [
            "✅ Number of text chunks: 5\n"
          ]
        }
      ]
    },
    {
      "cell_type": "code",
      "source": [
        "def get_vectorstore(text_chunks):\n",
        "    '''\n",
        "    Creates a FAISS vector store from text chunks using embeddings\n",
        "    '''\n",
        "    # Initialize HuggingFaceEmbeddings with an instruction-tuned transformer model\n",
        "    embeddings = HuggingFaceEmbeddings(\n",
        "        model_name=\"hkunlp/instructor-xl\",   # This model supports instruction-based embeddings (semantic understanding)\n",
        "        model_kwargs={\"device\": \"cuda\"}      # Run on GPU if available (requires Colab with GPU runtime like T4 or A100)\n",
        "    )\n",
        "\n",
        "    # FAISS is used to store and retrieve embeddings efficiently\n",
        "    # `from_texts` computes embeddings for each chunk and stores them in the FAISS index\n",
        "    vectorstore = FAISS.from_texts(\n",
        "        texts=text_chunks,       # List of text chunks from the PDF\n",
        "        embedding=embeddings     # Embedding model used to convert text to vectors\n",
        "    )\n",
        "\n",
        "    return vectorstore  # Return the FAISS vector store\n",
        "\n",
        "# Create the vector store from the previously created text chunks\n",
        "vectorstore = get_vectorstore(text_chunks)\n",
        "print(\"✅ Vectorstore created\")"
      ],
      "metadata": {
        "colab": {
          "base_uri": "https://localhost:8080/"
        },
        "id": "HUmlzZpu3Hem",
        "outputId": "a89a32ef-8bfd-4f95-98c6-fb9fa135a8aa"
      },
      "execution_count": 15,
      "outputs": [
        {
          "output_type": "stream",
          "name": "stdout",
          "text": [
            "✅ Vectorstore created\n"
          ]
        }
      ]
    },
    {
      "cell_type": "code",
      "source": [
        "def get_conversation_chain(vectorstore):\n",
        "    '''\n",
        "    Creates a Conversational Retrieval Chain using OpenAI's Chat mode\n",
        "    '''\n",
        "    # Initialize the OpenAI chat model (LLM)\n",
        "    llm = ChatOpenAI(\n",
        "        model_name=\"gpt-4o-mini\",      # \"gpt-4o-mini\" is lightweight and fast, but has token limit 128 (use \"gpt-3.5-turbo\" on free tier)\n",
        "        temperature=0.7,               # Controls randomness in responses (0 = deterministic, 1 = creative)\n",
        "        request_timeout=30             # Max time (in seconds) to wait for a response from the model\n",
        "    )\n",
        "\n",
        "    # Memory to store and recall past user-AI messages across turns in the conversation\n",
        "    memory = ConversationBufferMemory(\n",
        "        memory_key='chat_history',     # Key used internally by LangChain to track message history\n",
        "        return_messages=True           # Returns history as a list of message objects (needed by chat models)\n",
        "    )\n",
        "\n",
        "    # Create the full conversational retrieval chain\n",
        "    # Combines:\n",
        "    #  - the LLM (`llm`)\n",
        "    #  - a retriever (built on top of FAISS vector store)\n",
        "    #  - and a memory buffer for chat history\n",
        "    return ConversationalRetrievalChain.from_llm(\n",
        "        llm=llm,\n",
        "        retriever=vectorstore.as_retriever(),  # Retrieves relevant chunks from FAISS based on the current user query\n",
        "        memory=memory                          # Maintains context across interactions\n",
        "    )\n",
        "\n",
        "# Initialize the conversational chain using the vector store built earlier\n",
        "conversation = get_conversation_chain(vectorstore)\n"
      ],
      "metadata": {
        "colab": {
          "base_uri": "https://localhost:8080/"
        },
        "id": "h64PX3_z5BXJ",
        "outputId": "2da03c5a-52ae-4a5f-fc49-d62860552c0a"
      },
      "execution_count": 16,
      "outputs": [
        {
          "output_type": "stream",
          "name": "stderr",
          "text": [
            "/tmp/ipython-input-16-1870582590.py:9: LangChainDeprecationWarning: Please see the migration guide at: https://python.langchain.com/docs/versions/migrating_memory/\n",
            "  memory = ConversationBufferMemory(\n"
          ]
        }
      ]
    },
    {
      "cell_type": "code",
      "source": [
        "# Function to ask questions about the uploaded PDFs\n",
        "\n",
        "def chat_with_pdf(question):\n",
        "    # Call the LangChain ConversationalRetrievalChain with the user's question\n",
        "    # This internally:\n",
        "    #  - Retrieves relevant PDF chunks from the vectorstore using semantic similarity\n",
        "    #  - Sends those chunks as context to the OpenAI chat model\n",
        "    #  - Returns a response while maintaining conversation history\n",
        "    response = conversation({'question': question})\n",
        "\n",
        "    # Loop through the entire chat history to display it (alternating User/Bot)\n",
        "    # The history includes both the user's previous questions and the bot's responses\n",
        "    for i, msg in enumerate(response['chat_history']):\n",
        "        sender = \"User\" if i % 2 == 0 else \"Bot\"  # Even index = User, Odd index = Bot\n",
        "        print(f\"{sender}: {msg.content}\")         # Print the message content"
      ],
      "metadata": {
        "id": "KzRR8gMl5G9C"
      },
      "execution_count": 17,
      "outputs": []
    },
    {
      "cell_type": "code",
      "source": [
        "chat_with_pdf(\"Give me a summary of the document.\")"
      ],
      "metadata": {
        "colab": {
          "base_uri": "https://localhost:8080/"
        },
        "id": "VTgqG0pw5Npl",
        "outputId": "d6f8451a-d0f7-483d-d458-be78eee2aaca"
      },
      "execution_count": 18,
      "outputs": [
        {
          "output_type": "stream",
          "name": "stderr",
          "text": [
            "/tmp/ipython-input-17-248311151.py:4: LangChainDeprecationWarning: The method `Chain.__call__` was deprecated in langchain 0.1.0 and will be removed in 1.0. Use :meth:`~invoke` instead.\n",
            "  response = conversation({'question': question})\n"
          ]
        },
        {
          "output_type": "stream",
          "name": "stdout",
          "text": [
            "User: Give me a summary of the document.\n",
            "Bot: The document provides a comprehensive overview of managing diabetes, a chronic condition that affects blood sugar processing. It outlines the two main types of diabetes: Type 1, which requires insulin, and Type 2, which may be managed with medications. Effective diabetes management is crucial to prevent serious complications and involves a combination of medical treatment, lifestyle changes, monitoring, and education.\n",
            "\n",
            "Key components of management include maintaining a balanced diet rich in whole grains, lean proteins, vegetables, and healthy fats, as well as engaging in regular physical activity—aiming for at least 150 minutes of moderate exercise per week. Monitoring blood sugar levels is essential to understand how various factors affect glucose levels, and medications may be necessary for effective management.\n",
            "\n",
            "The document emphasizes the importance of education, support groups, and a proactive approach to overall well-being in managing diabetes, promoting a lifestyle that includes healthy eating, physical activity, medication adherence, and mental wellness.\n"
          ]
        }
      ]
    },
    {
      "cell_type": "code",
      "source": [
        "chat_with_pdf(\"How does diet help in managing diabetes?\") # change your question according to your own document"
      ],
      "metadata": {
        "colab": {
          "base_uri": "https://localhost:8080/"
        },
        "id": "60RVjBA45Toq",
        "outputId": "96eb8b67-4b87-4b0f-bc83-7198ab03241d"
      },
      "execution_count": 19,
      "outputs": [
        {
          "output_type": "stream",
          "name": "stdout",
          "text": [
            "User: Give me a summary of the document.\n",
            "Bot: The document provides a comprehensive overview of managing diabetes, a chronic condition that affects blood sugar processing. It outlines the two main types of diabetes: Type 1, which requires insulin, and Type 2, which may be managed with medications. Effective diabetes management is crucial to prevent serious complications and involves a combination of medical treatment, lifestyle changes, monitoring, and education.\n",
            "\n",
            "Key components of management include maintaining a balanced diet rich in whole grains, lean proteins, vegetables, and healthy fats, as well as engaging in regular physical activity—aiming for at least 150 minutes of moderate exercise per week. Monitoring blood sugar levels is essential to understand how various factors affect glucose levels, and medications may be necessary for effective management.\n",
            "\n",
            "The document emphasizes the importance of education, support groups, and a proactive approach to overall well-being in managing diabetes, promoting a lifestyle that includes healthy eating, physical activity, medication adherence, and mental wellness.\n",
            "User: How does diet help in managing diabetes?\n",
            "Bot: Diet plays a central role in managing diabetes by helping to maintain stable blood sugar levels. Individuals are encouraged to aim for a balanced diet rich in whole grains, lean proteins, vegetables, fruits, and healthy fats. Foods with a low glycemic index (GI) are particularly beneficial as they help prevent spikes in blood sugar. Additionally, portion control and regular meal timing are important aspects of dietary management. Consulting a registered dietitian or diabetes educator can assist in creating a personalized meal plan that aligns with individual preferences and needs, further supporting effective diabetes management.\n"
          ]
        }
      ]
    },
    {
      "cell_type": "code",
      "source": [
        "chat_with_pdf(\"How does meditation help in diabetes?\")"
      ],
      "metadata": {
        "colab": {
          "base_uri": "https://localhost:8080/"
        },
        "id": "pBZQRJWP5dHN",
        "outputId": "15eb6685-f616-4f85-a160-ed6a4c18aa68"
      },
      "execution_count": 20,
      "outputs": [
        {
          "output_type": "stream",
          "name": "stdout",
          "text": [
            "User: Give me a summary of the document.\n",
            "Bot: The document provides a comprehensive overview of managing diabetes, a chronic condition that affects blood sugar processing. It outlines the two main types of diabetes: Type 1, which requires insulin, and Type 2, which may be managed with medications. Effective diabetes management is crucial to prevent serious complications and involves a combination of medical treatment, lifestyle changes, monitoring, and education.\n",
            "\n",
            "Key components of management include maintaining a balanced diet rich in whole grains, lean proteins, vegetables, and healthy fats, as well as engaging in regular physical activity—aiming for at least 150 minutes of moderate exercise per week. Monitoring blood sugar levels is essential to understand how various factors affect glucose levels, and medications may be necessary for effective management.\n",
            "\n",
            "The document emphasizes the importance of education, support groups, and a proactive approach to overall well-being in managing diabetes, promoting a lifestyle that includes healthy eating, physical activity, medication adherence, and mental wellness.\n",
            "User: How does diet help in managing diabetes?\n",
            "Bot: Diet plays a central role in managing diabetes by helping to maintain stable blood sugar levels. Individuals are encouraged to aim for a balanced diet rich in whole grains, lean proteins, vegetables, fruits, and healthy fats. Foods with a low glycemic index (GI) are particularly beneficial as they help prevent spikes in blood sugar. Additionally, portion control and regular meal timing are important aspects of dietary management. Consulting a registered dietitian or diabetes educator can assist in creating a personalized meal plan that aligns with individual preferences and needs, further supporting effective diabetes management.\n",
            "User: How does meditation help in diabetes?\n",
            "Bot: Meditation can help in managing diabetes by reducing chronic stress, which can affect blood sugar levels and overall health. Stress management techniques, including meditation, promote relaxation and mindfulness, potentially leading to better emotional well-being. This can help individuals with diabetes cope with the emotional challenges of the condition, such as anxiety or depression, and contribute to a more comprehensive approach to diabetes care.\n"
          ]
        }
      ]
    }
  ]
}
